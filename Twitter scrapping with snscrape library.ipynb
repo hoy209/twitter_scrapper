{
 "cells": [
  {
   "cell_type": "markdown",
   "metadata": {},
   "source": [
    "<h2 style=\"background-color:#002469;\">\n",
    "    <span style='color:white'>\n",
    "How to scrap old tweets with snscrape\n",
    "    </span>\n",
    "</h2>\n",
    "\n",
    "<h3 style=\"background-color: #d6eaf8;\">\n",
    "    <span style='color:black'>\n",
    " Reference\n",
    "    </span>\n",
    "</h3>\n",
    "\n",
    "https://www.datadriveninvestor.com/2020/12/01/how-to-build-a-twitter-scraping-app-with-python/#\n",
    "https://www.atoti.io/how-im-failing-my-twitter-sentiment-analysis-for-cryptocurrency-prediction/\n",
    "https://medium.com/better-programming/how-to-scrape-tweets-with-snscrape-90124ed006af\n",
    "https://medium.com/analytics-vidhya/twitter-missing-data-recovery-using-python-7c193cfecb18"
   ]
  },
  {
   "cell_type": "code",
   "execution_count": null,
   "metadata": {},
   "outputs": [],
   "source": [
    "### ! pip install datetime\n",
    "### ! pip install snscrape\n",
    "import pandas as pd\n",
    "import numpy as np\n",
    "import csv\n",
    "import snscrape.modules.twitter as sntwitter\n",
    "import datetime as dt\n",
    "import time\n",
    "from datetime import datetime, timedelta"
   ]
  },
  {
   "cell_type": "code",
   "execution_count": null,
   "metadata": {},
   "outputs": [],
   "source": [
    "# put the start time\n",
    "# end_date should be the next day of start_date. They don't scrap end_date tweets\n",
    "keyword = 'keyword'\n",
    "end_date = datetime.now()\n",
    "end_date = now.strftime('2018-09-05')\n",
    "start_date = datetime.now() - timedelta(days = 1)\n",
    "start_date = yesterday.strftime('2018-09-04')"
   ]
  },
  {
   "cell_type": "code",
   "execution_count": null,
   "metadata": {},
   "outputs": [],
   "source": [
    "csvFile = open(keyword +'tweets' + start_date + '.csv', 'a', newline='', encoding='utf-8-sig')\n",
    "csvWriter = csv.writer(csvFile)\n",
    "csvWriter.writerow(['id','date','username','tweet'])\n",
    "\n",
    "# configure the word\n",
    "for i,tweet in enumerate(sntwitter.TwitterSearchScraper(keyword+ ' lang:en since:' +  start_date + ' until:' + end_date + ' -filter:links -filter:replies').get_items()):\n",
    "        if i == 5000 : #  limit the number of tweets\n",
    "            break\n",
    "        csvWriter.writerow([tweet.id, tweet.date, tweet.username, tweet.content])           \n",
    "\n",
    "csvFile.close()"
   ]
  }
 ],
 "metadata": {
  "kernelspec": {
   "display_name": "Python 3",
   "language": "python",
   "name": "python3"
  },
  "language_info": {
   "codemirror_mode": {
    "name": "ipython",
    "version": 3
   },
   "file_extension": ".py",
   "mimetype": "text/x-python",
   "name": "python",
   "nbconvert_exporter": "python",
   "pygments_lexer": "ipython3",
   "version": "3.8.3"
  }
 },
 "nbformat": 4,
 "nbformat_minor": 4
}
